{
  "nbformat": 4,
  "nbformat_minor": 0,
  "metadata": {
    "colab": {
      "name": "Pz11.ipynb",
      "provenance": [],
      "authorship_tag": "ABX9TyO/lAKCZjgq3zyUHEfm4VAZ",
      "include_colab_link": true
    },
    "kernelspec": {
      "name": "python3",
      "display_name": "Python 3"
    },
    "language_info": {
      "name": "python"
    }
  },
  "cells": [
    {
      "cell_type": "markdown",
      "metadata": {
        "id": "view-in-github",
        "colab_type": "text"
      },
      "source": [
        "<a href=\"https://colab.research.google.com/github/erving161/pz/blob/master/Pz11.ipynb\" target=\"_parent\"><img src=\"https://colab.research.google.com/assets/colab-badge.svg\" alt=\"Open In Colab\"/></a>"
      ]
    },
    {
      "cell_type": "code",
      "execution_count": null,
      "metadata": {
        "id": "EYN2MY6P5cNV"
      },
      "outputs": [],
      "source": [
        ""
      ]
    },
    {
      "cell_type": "code",
      "source": [
        "import random\n",
        "number_1 = random.randrange(100, 1000)\n",
        "number_2 = random.randrange(100, 1000)\n",
        "number_3 = random.randrange(100, 1000)\n",
        "print('Случайные числа - ', number_1, number_2, number_3)\n",
        "if number_2 == number_1:\n",
        "    print('true')\n",
        "else:\n",
        "    print('false')\n",
        "if number_1 == number_3:\n",
        "    print('true')\n",
        "else:\n",
        "    print('false')\n",
        "if number_2 == number_3:\n",
        "    print('true')\n",
        "else:\n",
        "    print('false')\n"
      ],
      "metadata": {
        "id": "2LOewoX777ge"
      },
      "execution_count": null,
      "outputs": []
    },
    {
      "cell_type": "code",
      "source": [
        "# Дано целое число N (> 0). Найти сумму 1^N + 2^N-1 + ... + N^1\n",
        "\n",
        "n = int(input('Ввести число'))\n",
        "a = 1\n",
        "b = 0\n",
        "while n >= 1:\n",
        "    b += a**n\n",
        "    a += 1\n",
        "    n -= 1\n",
        "\n",
        "print('Сумма равна', b)"
      ],
      "metadata": {
        "id": "syBctroh7-VL"
      },
      "execution_count": null,
      "outputs": []
    },
    {
      "cell_type": "code",
      "source": [
        "# Cоставить функцию решения задачи: из заданного числа вычли сумму его цифр. #1\n",
        "# Из результата вновь вычли сумму его цифр и т.д. Через сколько таких действий получится нуль?\n",
        "\n",
        "def f(n):\n",
        "    s = 0\n",
        "    while n > 0:\n",
        "        s += n % 10\n",
        "        n = n // 10\n",
        "    return s\n",
        "\n",
        "\n",
        "\n",
        "c = int(input(\"Введите число: \"))\n",
        "k = 0\n",
        "while c > 0:\n",
        "    c -= f(c)\n",
        "    k += 1\n",
        "\n",
        "\n",
        "print(\"Через \" + str(k) + \" действий\")"
      ],
      "metadata": {
        "id": "WTIMNi6n8Esz"
      },
      "execution_count": null,
      "outputs": []
    }
  ]
}